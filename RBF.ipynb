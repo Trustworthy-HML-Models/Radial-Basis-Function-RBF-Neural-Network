{
  "cells": [
    {
      "cell_type": "markdown",
      "id": "bde625ec",
      "metadata": {
        "id": "bde625ec"
      },
      "source": [
        "# Problem 3\n",
        "\n",
        "RBF NN based on Gaussian kernel functions with constant spread function using all the points in the training set as centers of the RB functions."
      ]
    },
    {
      "cell_type": "markdown",
      "id": "d82ac388",
      "metadata": {
        "id": "d82ac388"
      },
      "source": [
        "Radial basis function consists of 3 layers. The first layer is the input layer and of course the output layer and the hidden layer. Here we have only one hidden layer unlike MLP. The weights between the input and hidden layer are unity."
      ]
    },
    {
      "cell_type": "code",
      "execution_count": 1,
      "id": "017b34c6",
      "metadata": {
        "id": "017b34c6"
      },
      "outputs": [],
      "source": [
        "## Importing the necessary libraries to perform the task"
      ]
    },
    {
      "cell_type": "code",
      "execution_count": 2,
      "id": "bdd14ae6",
      "metadata": {
        "id": "bdd14ae6"
      },
      "outputs": [],
      "source": [
        "import numpy as np\n",
        "import matplotlib.pyplot as plt"
      ]
    },
    {
      "cell_type": "markdown",
      "id": "5ee1781c",
      "metadata": {
        "id": "5ee1781c"
      },
      "source": [
        "We need our input and output data. As per the problem x is a function if xi and xj. i and j can take values from 0 to 21. If we substitute the values of i and j in below equation we will get out inputs \n",
        "\n",
        "𝑥i = −2 + 0.2 𝑖 \n",
        "𝑥j = −2 + 0.2 𝑗\n",
        "\n",
        "The obtained value of xi and xj is substituted in provided function to get the outputs\n",
        "\n",
        " \n"
      ]
    },
    {
      "cell_type": "code",
      "execution_count": 3,
      "id": "15a413cd",
      "metadata": {
        "id": "15a413cd"
      },
      "outputs": [],
      "source": [
        "#Declaring input data and output data list to store the values\n",
        "#Training data\n",
        "\n",
        "input_data= []\n",
        "output_data = []\n",
        "\n",
        "''' \n",
        "Considering 80% of 441 dataset to training, So 352 samples considered for training\n",
        "'''\n",
        "\n",
        "for i in range (352):\n",
        "    x= np.random.randint(0,21)\n",
        "    y= np.random.randint(0,21)\n",
        "     \n",
        "    x1 = -2 +0.2*x\n",
        "    x2 = -2 + 0.2*y\n",
        "    \n",
        "    if ((x1 ** 2 + x2 **2) <=1):\n",
        "        output_data.append(1)\n",
        "    else:\n",
        "        output_data.append(-1)\n",
        "        \n",
        "    input_data.append([x1,x2])\n",
        "    \n",
        "input_data=np.array(input_data)\n",
        "output_data=np.array(output_data)"
      ]
    },
    {
      "cell_type": "code",
      "execution_count": 4,
      "id": "de34db56",
      "metadata": {
        "id": "de34db56"
      },
      "outputs": [],
      "source": [
        "# Testing data\n",
        "''' \n",
        "Considering 20% of 441 dataset to training, So 89 samples for testing\n",
        "'''\n",
        "\n",
        "test_input_data = []\n",
        "test_output_data = []\n",
        "\n",
        "for i in range (89):\n",
        "    x= np.random.randint(0,21)\n",
        "    y= np.random.randint(0,21)\n",
        "    \n",
        "    x1 = -2 +0.2*x\n",
        "    x2 = -2 + 0.2*y\n",
        "    \n",
        "    if ((x1 ** 2 + x2 **2) <=1):\n",
        "        test_output_data.append(1)\n",
        "    else:\n",
        "        test_output_data.append(-1)\n",
        "        \n",
        "    test_input_data.append([x1,x2])\n",
        "    \n",
        "test_input_data=np.array(test_input_data)\n",
        "test_output_data=np.array(test_output_data)\n",
        " "
      ]
    },
    {
      "cell_type": "markdown",
      "id": "37ba1a17",
      "metadata": {
        "id": "37ba1a17"
      },
      "source": [
        "Once we obtained the training and test input/output data, we can proceed with the Gaussian RBF function. \n",
        "\n",
        "Every neuron in the hidden layer computes radial basis functional value for the input vector. The Gaussian Radial basis function has 2 value the receptor (t) (which is also called the centre) and sigma (σ) which is the spread of the function. \n",
        "To execute Gaussian RBF function, 2 learnings must be done. Out of which the first one is\n",
        "\n",
        "1.To find the value for t and σ. \n",
        "\n",
        "From the probelem, training set is the center and sigma is constant for all the kernel. we will have to compare the results by varying the sigma. so we select a range of sigma from 0 to 10.\n",
        "\n",
        "So we can directly work on the Gaussian function as we have the 't' and 'σ'. We just need to find the distance and we can use it in the Gaussian equation \n",
        "\n",
        "\n"
      ]
    },
    {
      "cell_type": "code",
      "execution_count": 5,
      "id": "6244a045",
      "metadata": {
        "id": "6244a045"
      },
      "outputs": [],
      "source": [
        "def distance(inputs,receptors):\n",
        "    dist= np.linalg.norm(inputs - receptors)**2\n",
        "    return dist"
      ]
    },
    {
      "cell_type": "code",
      "execution_count": 6,
      "id": "4eaec946",
      "metadata": {
        "id": "4eaec946"
      },
      "outputs": [],
      "source": [
        "\n",
        "## The gaussian matrix will be of N*M dimension where N is input sample number and  M is the number of receptor\n",
        "\n",
        "\n",
        "def gaussian(inputs,receptors,sigma):\n",
        "    \n",
        "    G=np.zeros((inputs.shape[0],receptors.shape[0]))\n",
        "    sig = 2*(sigma **2)\n",
        "    \n",
        "    for index_t, t in enumerate(receptors):\n",
        "        for index_inp, inp in enumerate(inputs):\n",
        "            d = distance(inp,t)\n",
        "            g=np.exp(-d/sig)\n",
        "            \n",
        "            G[index_inp,index_t]=g\n",
        "            \n",
        "    return G\n",
        "\n"
      ]
    },
    {
      "cell_type": "markdown",
      "id": "f7d38452",
      "metadata": {
        "id": "f7d38452"
      },
      "source": [
        "once G is found, we can now work on the second level of learning in RBF functions. Finding the value of the Weights in the output layer. (Because the linear combination of the output of the RBF function is likely to give the class belongingness i.e., the class of the feature vectors. It is decided by the weights in the output layer)"
      ]
    },
    {
      "cell_type": "code",
      "execution_count": 7,
      "id": "fa8f9670",
      "metadata": {
        "id": "fa8f9670"
      },
      "outputs": [],
      "source": [
        "'''In the case where the RBFN is used for interpolation\n",
        "purposes, we can use the inverse or pseudo-inverse method\n",
        "to calculate the weight matrix.'''\n",
        "\n",
        "def weight_calc(inputs,receptors,sigma,V):\n",
        "    \n",
        "    G_matrix=gaussian(inputs,receptors,sigma)\n",
        "    G=np.linalg.pinv(G_matrix)\n",
        "    w=np.dot(G,V)\n",
        "       \n",
        "    return w"
      ]
    },
    {
      "cell_type": "code",
      "execution_count": 8,
      "id": "a89ddfac",
      "metadata": {
        "id": "a89ddfac"
      },
      "outputs": [],
      "source": [
        " ''' Finding the output by multiplying G.W. This is required to find the Mean \n",
        " square error and the accuracy and will also help witht he plots'''\n",
        "\n",
        "def output_calc(test_input_list,receptors,sigma,w):\n",
        "    \n",
        "    gauss_mat_test= gaussian(test_input_list,receptors,sigma)\n",
        "    output= np.dot(gauss_mat_test,w)\n",
        "    \n",
        "    return output"
      ]
    },
    {
      "cell_type": "code",
      "execution_count": 9,
      "id": "637b6f94",
      "metadata": {
        "id": "637b6f94"
      },
      "outputs": [],
      "source": [
        "def mean_square_err_calc(y_true,y_pred):\n",
        "    return np.mean((y_true - y_pred) ** 2)"
      ]
    },
    {
      "cell_type": "code",
      "execution_count": 10,
      "id": "4dbd886c",
      "metadata": {
        "id": "4dbd886c"
      },
      "outputs": [],
      "source": [
        "def accuracy_calc(y_true, y_pred):\n",
        "    return np.mean(y_true == y_pred)"
      ]
    },
    {
      "cell_type": "markdown",
      "id": "f8786ced",
      "metadata": {
        "id": "f8786ced"
      },
      "source": [
        "Once all the variables of the lerning is found we can train the model with the input data and find the MSE and Accuracy. Then we can test it with the test data. As mentioned in the problem varied range of sigma is passed to understand the effect of sigma on performance of RBF"
      ]
    },
    {
      "cell_type": "code",
      "execution_count": 11,
      "id": "a532122a",
      "metadata": {
        "colab": {
          "base_uri": "https://localhost:8080/"
        },
        "id": "a532122a",
        "outputId": "98d4e862-7e68-4b33-a0fb-7c9eb6ebc606"
      },
      "outputs": [
        {
          "output_type": "stream",
          "name": "stdout",
          "text": [
            "Sigma : 0.1 | MSE : 0.0449438202247191 | Accuracy : 98.87640449438202% \n",
            "Sigma : 0.2 | MSE : 0.0449438202247191 | Accuracy : 98.87640449438202% \n",
            "Sigma : 0.3 | MSE : 0.1797752808988764 | Accuracy : 95.50561797752809% \n",
            "Sigma : 0.4 | MSE : 0.449438202247191 | Accuracy : 88.76404494382022% \n",
            "Sigma : 0.5 | MSE : 0.7191011235955056 | Accuracy : 82.02247191011236% \n",
            "Sigma : 0.6 | MSE : 0.7191011235955056 | Accuracy : 82.02247191011236% \n",
            "Sigma : 0.7 | MSE : 0.898876404494382 | Accuracy : 77.52808988764045% \n",
            "Sigma : 0.8 | MSE : 0.5842696629213483 | Accuracy : 85.39325842696628% \n",
            "Sigma : 0.9 | MSE : 0.3595505617977528 | Accuracy : 91.01123595505618% \n",
            "Sigma : 1 | MSE : 0.0898876404494382 | Accuracy : 97.75280898876404% \n",
            "Sigma : 2 | MSE : 0.1348314606741573 | Accuracy : 96.62921348314607% \n",
            "Sigma : 3 | MSE : 0.1348314606741573 | Accuracy : 96.62921348314607% \n",
            "Sigma : 4 | MSE : 0.0449438202247191 | Accuracy : 98.87640449438202% \n",
            "Sigma : 5 | MSE : 0.0449438202247191 | Accuracy : 98.87640449438202% \n",
            "Sigma : 6 | MSE : 0.0449438202247191 | Accuracy : 98.87640449438202% \n",
            "Sigma : 7 | MSE : 0.0449438202247191 | Accuracy : 98.87640449438202% \n",
            "Sigma : 8 | MSE : 0.0449438202247191 | Accuracy : 98.87640449438202% \n",
            "Sigma : 9 | MSE : 0.0449438202247191 | Accuracy : 98.87640449438202% \n",
            "Sigma : 10 | MSE : 0.0449438202247191 | Accuracy : 98.87640449438202% \n",
            "Sigma : 11 | MSE : 0.0 | Accuracy : 100.0% \n",
            "Sigma : 12 | MSE : 0.0 | Accuracy : 100.0% \n",
            "Sigma : 13 | MSE : 0.0 | Accuracy : 100.0% \n",
            "Sigma : 14 | MSE : 0.0449438202247191 | Accuracy : 98.87640449438202% \n",
            "Sigma : 15 | MSE : 0.2247191011235955 | Accuracy : 94.3820224719101% \n",
            "Sigma : 20 | MSE : 0.2247191011235955 | Accuracy : 94.3820224719101% \n",
            "Sigma : 25 | MSE : 0.1348314606741573 | Accuracy : 96.62921348314607% \n"
          ]
        }
      ],
      "source": [
        "# Considering Sigma values from 0.1 to 25\n",
        "sigma=[0.1,0.2,0.3,0.4,0.5,0.6,0.7,0.8,0.9,1,2,3,4,5,6,7,8,9,10,11,12,13,14,15,20,25]\n",
        "#Initialising MSE and accuracy to store the value\n",
        "Mean_sq_error=[]\n",
        "accuracy_list=[]\n",
        "for i in sigma: \n",
        "    w= weight_calc(input_data,input_data,i,output_data)\n",
        "    y_value= output_calc(test_input_data,input_data,i,w)\n",
        "    y_pred= np.sign(y_value)\n",
        "    error= mean_square_err_calc(test_output_data,y_pred)\n",
        "    Mean_sq_error.append(error)\n",
        "    accuracy = accuracy_calc(test_output_data,y_pred)\n",
        "    accuracy_list.append(accuracy)\n",
        "    print(\"Sigma : {} | MSE : {} | Accuracy : {}% \".format(i,error,accuracy*100))"
      ]
    },
    {
      "cell_type": "code",
      "execution_count": 12,
      "id": "4ca7463a",
      "metadata": {
        "colab": {
          "base_uri": "https://localhost:8080/",
          "height": 295
        },
        "id": "4ca7463a",
        "outputId": "89653e30-8f6a-4c12-8f87-8ebcf9938084"
      },
      "outputs": [
        {
          "output_type": "display_data",
          "data": {
            "text/plain": [
              "<Figure size 432x288 with 1 Axes>"
            ],
            "image/png": "[encoded data removed]"
          },
          "metadata": {
            "needs_background": "light"
          }
        }
      ],
      "source": [
        "# Plotting the effect of sigma with MSE\n",
        "plt.plot(sigma,Mean_sq_error)\n",
        "plt.title(\"Sigma Vs MSE\")\n",
        "plt.xlabel(\"Sigma\")\n",
        "plt.ylabel(\"MSE\")\n",
        "plt.show()"
      ]
    },
    {
      "cell_type": "code",
      "execution_count": 13,
      "id": "8de2d2c5",
      "metadata": {
        "colab": {
          "base_uri": "https://localhost:8080/",
          "height": 295
        },
        "id": "8de2d2c5",
        "outputId": "bd364588-6a1c-4df4-f0bc-f50e79dffca4"
      },
      "outputs": [
        {
          "output_type": "display_data",
          "data": {
            "text/plain": [
              "<Figure size 432x288 with 1 Axes>"
            ],
            "image/png": "[encoded data removed]"
          },
          "metadata": {
            "needs_background": "light"
          }
        }
      ],
      "source": [
        "# Plotting the effect of sigma with Accuracy\n",
        "plt.plot(sigma,accuracy_list)\n",
        "plt.title(\"Sigma Vs Accuracy\")\n",
        "plt.xlabel(\"Sigma\")\n",
        "plt.ylabel(\"Accuracy\")\n",
        "plt.show()"
      ]
    },
    {
      "cell_type": "markdown",
      "id": "25f56e89",
      "metadata": {
        "id": "25f56e89"
      },
      "source": [
        "From the implementation and the graph we can infer that for lower values of sigma (0.1 - 1.0) the accuracy was not consistent. It was fluctuating and the system doesnot perform effectively. A smaller spread doesn’t seem to provide for a good\n",
        "interpolation of the function in between sample data.\n",
        "\n",
        "when we increased the spread (2.0 - 4.0) it provides good accuracy consistently. We obtained an accuracy of ~99% when sigma value is 2,3,4. This particular spread (sigma = 3) value seems to provide the network with\n",
        "the adequate interpolation property.\n",
        "\n",
        "However, when we increase the spread, the network saturates. A larger width value 14 seems to be inadequate for this\n",
        "case, given that a lot of information is being lost when the ranges of the radial functions are further away from\n",
        "the original range of the function.\n",
        "\n",
        "So for sigma = 3, we achieved an accuracy of ~99% as per the above implementation. "
      ]
    },
    {
      "cell_type": "markdown",
      "id": "fcd87e1d",
      "metadata": {
        "id": "fcd87e1d"
      },
      "source": [
        "## Part 2\n",
        "a) Choosing 150 random points as Centres"
      ]
    },
    {
      "cell_type": "code",
      "execution_count": 14,
      "id": "92545687",
      "metadata": {
        "id": "92545687"
      },
      "outputs": [],
      "source": [
        "random_points = np.random.choice(input_data.shape[0], size=150, replace=False)\n",
        "random_150_centers = input_data[random_points,:]"
      ]
    },
    {
      "cell_type": "code",
      "execution_count": 15,
      "id": "cc223455",
      "metadata": {
        "colab": {
          "base_uri": "https://localhost:8080/"
        },
        "id": "cc223455",
        "outputId": "e24344f8-b588-43c7-f864-ee17e683a9f9"
      },
      "outputs": [
        {
          "output_type": "stream",
          "name": "stdout",
          "text": [
            "Sigma : 0.1 | MSE : 0.1348314606741573 | Accuracy of the network with 150 randomly selected centers : 96.62921348314607% \n",
            "Sigma : 0.2 | MSE : 0.0898876404494382 | Accuracy of the network with 150 randomly selected centers : 97.75280898876404% \n",
            "Sigma : 0.3 | MSE : 0.0449438202247191 | Accuracy of the network with 150 randomly selected centers : 98.87640449438202% \n",
            "Sigma : 0.4 | MSE : 0.0449438202247191 | Accuracy of the network with 150 randomly selected centers : 98.87640449438202% \n",
            "Sigma : 0.5 | MSE : 0.0449438202247191 | Accuracy of the network with 150 randomly selected centers : 98.87640449438202% \n",
            "Sigma : 0.6 | MSE : 0.0898876404494382 | Accuracy of the network with 150 randomly selected centers : 97.75280898876404% \n",
            "Sigma : 0.7 | MSE : 0.0898876404494382 | Accuracy of the network with 150 randomly selected centers : 97.75280898876404% \n",
            "Sigma : 0.8 | MSE : 0.0898876404494382 | Accuracy of the network with 150 randomly selected centers : 97.75280898876404% \n",
            "Sigma : 0.9 | MSE : 0.0898876404494382 | Accuracy of the network with 150 randomly selected centers : 97.75280898876404% \n",
            "Sigma : 1 | MSE : 0.0898876404494382 | Accuracy of the network with 150 randomly selected centers : 97.75280898876404% \n",
            "Sigma : 2 | MSE : 0.1348314606741573 | Accuracy of the network with 150 randomly selected centers : 96.62921348314607% \n",
            "Sigma : 3 | MSE : 0.1348314606741573 | Accuracy of the network with 150 randomly selected centers : 96.62921348314607% \n",
            "Sigma : 4 | MSE : 0.0449438202247191 | Accuracy of the network with 150 randomly selected centers : 98.87640449438202% \n",
            "Sigma : 5 | MSE : 0.0449438202247191 | Accuracy of the network with 150 randomly selected centers : 98.87640449438202% \n",
            "Sigma : 6 | MSE : 0.0449438202247191 | Accuracy of the network with 150 randomly selected centers : 98.87640449438202% \n",
            "Sigma : 7 | MSE : 0.0449438202247191 | Accuracy of the network with 150 randomly selected centers : 98.87640449438202% \n",
            "Sigma : 8 | MSE : 0.0449438202247191 | Accuracy of the network with 150 randomly selected centers : 98.87640449438202% \n",
            "Sigma : 9 | MSE : 0.0449438202247191 | Accuracy of the network with 150 randomly selected centers : 98.87640449438202% \n",
            "Sigma : 10 | MSE : 0.0449438202247191 | Accuracy of the network with 150 randomly selected centers : 98.87640449438202% \n",
            "Sigma : 11 | MSE : 0.0 | Accuracy of the network with 150 randomly selected centers : 100.0% \n",
            "Sigma : 12 | MSE : 0.0 | Accuracy of the network with 150 randomly selected centers : 100.0% \n",
            "Sigma : 13 | MSE : 0.0 | Accuracy of the network with 150 randomly selected centers : 100.0% \n",
            "Sigma : 14 | MSE : 0.2696629213483146 | Accuracy of the network with 150 randomly selected centers : 93.25842696629213% \n",
            "Sigma : 15 | MSE : 0.2247191011235955 | Accuracy of the network with 150 randomly selected centers : 94.3820224719101% \n",
            "Sigma : 20 | MSE : 0.2247191011235955 | Accuracy of the network with 150 randomly selected centers : 94.3820224719101% \n",
            "Sigma : 25 | MSE : 0.1348314606741573 | Accuracy of the network with 150 randomly selected centers : 96.62921348314607% \n"
          ]
        }
      ],
      "source": [
        "# Considering Sigma values from 0.1 to 25\n",
        "sigma=[0.1,0.2,0.3,0.4,0.5,0.6,0.7,0.8,0.9,1,2,3,4,5,6,7,8,9,10,11,12,13,14,15,20,25]\n",
        "#Initialising MSE and accuracy to store the value\n",
        "Mean_sq_error_150=[]\n",
        "accuracy_150=[]\n",
        "for i in sigma: \n",
        "    w= weight_calc(input_data,random_150_centers,i,output_data)\n",
        "    y_value_150= output_calc(test_input_data,random_150_centers,i,w)\n",
        "    y_pred_150= np.sign(y_value_150)\n",
        "    error= mean_square_err_calc(test_output_data,y_pred_150)\n",
        "    Mean_sq_error_150.append(error)\n",
        "    accuracy = accuracy_calc(test_output_data,y_pred_150)\n",
        "    accuracy_150.append(accuracy)\n",
        "    print(\"Sigma : {} | MSE : {} | Accuracy of the network with 150 randomly selected centers : {}% \".format(i,error,accuracy*100))"
      ]
    },
    {
      "cell_type": "code",
      "execution_count": 16,
      "id": "686f73ba",
      "metadata": {
        "colab": {
          "base_uri": "https://localhost:8080/",
          "height": 295
        },
        "id": "686f73ba",
        "outputId": "34e773fc-6d84-441a-8095-270a3f537311"
      },
      "outputs": [
        {
          "output_type": "display_data",
          "data": {
            "text/plain": [
              "<Figure size 432x288 with 1 Axes>"
            ],
            "image/png": "[encoded data removed]"
          },
          "metadata": {
            "needs_background": "light"
          }
        }
      ],
      "source": [
        "# Plotting the effect of sigma with MSE\n",
        "plt.plot(sigma,Mean_sq_error_150)\n",
        "plt.title(\"Sigma Vs MSE_150\")\n",
        "plt.xlabel(\"Sigma\")\n",
        "plt.ylabel(\"MSE\")\n",
        "plt.show()"
      ]
    },
    {
      "cell_type": "code",
      "execution_count": 17,
      "id": "6ce51cf3",
      "metadata": {
        "colab": {
          "base_uri": "https://localhost:8080/",
          "height": 295
        },
        "id": "6ce51cf3",
        "outputId": "4474d598-aec1-4b5d-fbca-76e3714be077"
      },
      "outputs": [
        {
          "output_type": "display_data",
          "data": {
            "text/plain": [
              "<Figure size 432x288 with 1 Axes>"
            ],
            "image/png": "[encoded data removed]"
          },
          "metadata": {
            "needs_background": "light"
          }
        }
      ],
      "source": [
        "# Plotting the effect of sigma with Accuracy of the network with 150 centers selected randomly\n",
        "plt.plot(sigma,accuracy_150)\n",
        "plt.title(\"Sigma Vs Accuracy_150\")\n",
        "plt.xlabel(\"Sigma\")\n",
        "plt.ylabel(\"Accuracy\")\n",
        "plt.show()"
      ]
    },
    {
      "cell_type": "markdown",
      "id": "21d7f75f",
      "metadata": {
        "id": "21d7f75f"
      },
      "source": [
        "b) Using K-Means Clustering to get 150 centres."
      ]
    },
    {
      "cell_type": "markdown",
      "id": "3837ee4e",
      "metadata": {
        "id": "3837ee4e"
      },
      "source": [
        "Design Summary\n",
        "Here we compute 150 centres using kmeans clustering as the number of hidden layer neurons. \n",
        "Sigma values are ranging from 0.01 to 10 above that the values get saturated ."
      ]
    },
    {
      "cell_type": "code",
      "execution_count": 18,
      "id": "58e8fe25",
      "metadata": {
        "id": "58e8fe25"
      },
      "outputs": [],
      "source": [
        "#Importing the necessary libraries\n",
        "\n",
        "from sklearn.cluster import KMeans"
      ]
    },
    {
      "cell_type": "code",
      "execution_count": 19,
      "id": "2f39771b",
      "metadata": {
        "id": "2f39771b"
      },
      "outputs": [],
      "source": [
        "kmeans = KMeans(n_clusters=150, random_state=0).fit(input_data)\n"
      ]
    },
    {
      "cell_type": "code",
      "execution_count": 20,
      "id": "00be176e",
      "metadata": {
        "id": "00be176e"
      },
      "outputs": [],
      "source": [
        "kmeans_centers = kmeans.cluster_centers_\n"
      ]
    },
    {
      "cell_type": "code",
      "execution_count": 21,
      "id": "da2d122b",
      "metadata": {
        "colab": {
          "base_uri": "https://localhost:8080/"
        },
        "id": "da2d122b",
        "outputId": "272f42e1-fbd8-45b8-9e38-31c07812b228"
      },
      "outputs": [
        {
          "output_type": "stream",
          "name": "stdout",
          "text": [
            "Sigma : 0.1 | MSE : 0.1797752808988764 | Accuracy of the network with 150 centers selected by Kmeans : 95.50561797752809% \n",
            "Sigma : 0.2 | MSE : 0.0449438202247191 | Accuracy of the network with 150 centers selected by Kmeans : 98.87640449438202% \n",
            "Sigma : 0.3 | MSE : 0.0449438202247191 | Accuracy of the network with 150 centers selected by Kmeans : 98.87640449438202% \n",
            "Sigma : 0.4 | MSE : 0.0449438202247191 | Accuracy of the network with 150 centers selected by Kmeans : 98.87640449438202% \n",
            "Sigma : 0.5 | MSE : 0.0449438202247191 | Accuracy of the network with 150 centers selected by Kmeans : 98.87640449438202% \n",
            "Sigma : 0.6 | MSE : 0.1348314606741573 | Accuracy of the network with 150 centers selected by Kmeans : 96.62921348314607% \n",
            "Sigma : 0.7 | MSE : 0.1348314606741573 | Accuracy of the network with 150 centers selected by Kmeans : 96.62921348314607% \n",
            "Sigma : 0.8 | MSE : 0.1348314606741573 | Accuracy of the network with 150 centers selected by Kmeans : 96.62921348314607% \n",
            "Sigma : 0.9 | MSE : 0.1348314606741573 | Accuracy of the network with 150 centers selected by Kmeans : 96.62921348314607% \n",
            "Sigma : 1 | MSE : 0.1348314606741573 | Accuracy of the network with 150 centers selected by Kmeans : 96.62921348314607% \n",
            "Sigma : 2 | MSE : 0.1348314606741573 | Accuracy of the network with 150 centers selected by Kmeans : 96.62921348314607% \n",
            "Sigma : 3 | MSE : 0.1348314606741573 | Accuracy of the network with 150 centers selected by Kmeans : 96.62921348314607% \n",
            "Sigma : 4 | MSE : 0.0449438202247191 | Accuracy of the network with 150 centers selected by Kmeans : 98.87640449438202% \n",
            "Sigma : 5 | MSE : 0.0449438202247191 | Accuracy of the network with 150 centers selected by Kmeans : 98.87640449438202% \n",
            "Sigma : 6 | MSE : 0.0449438202247191 | Accuracy of the network with 150 centers selected by Kmeans : 98.87640449438202% \n",
            "Sigma : 7 | MSE : 0.0449438202247191 | Accuracy of the network with 150 centers selected by Kmeans : 98.87640449438202% \n",
            "Sigma : 8 | MSE : 0.0449438202247191 | Accuracy of the network with 150 centers selected by Kmeans : 98.87640449438202% \n",
            "Sigma : 9 | MSE : 0.0449438202247191 | Accuracy of the network with 150 centers selected by Kmeans : 98.87640449438202% \n",
            "Sigma : 10 | MSE : 0.0449438202247191 | Accuracy of the network with 150 centers selected by Kmeans : 98.87640449438202% \n",
            "Sigma : 11 | MSE : 0.0 | Accuracy of the network with 150 centers selected by Kmeans : 100.0% \n",
            "Sigma : 12 | MSE : 0.0 | Accuracy of the network with 150 centers selected by Kmeans : 100.0% \n",
            "Sigma : 13 | MSE : 0.0 | Accuracy of the network with 150 centers selected by Kmeans : 100.0% \n",
            "Sigma : 14 | MSE : 0.1348314606741573 | Accuracy of the network with 150 centers selected by Kmeans : 96.62921348314607% \n",
            "Sigma : 15 | MSE : 0.2247191011235955 | Accuracy of the network with 150 centers selected by Kmeans : 94.3820224719101% \n",
            "Sigma : 20 | MSE : 0.2247191011235955 | Accuracy of the network with 150 centers selected by Kmeans : 94.3820224719101% \n",
            "Sigma : 25 | MSE : 0.2247191011235955 | Accuracy of the network with 150 centers selected by Kmeans : 94.3820224719101% \n"
          ]
        }
      ],
      "source": [
        "# Considering Sigma values from 0.1 to 25\n",
        "sigma=[0.1,0.2,0.3,0.4,0.5,0.6,0.7,0.8,0.9,1,2,3,4,5,6,7,8,9,10,11,12,13,14,15,20,25]\n",
        "#Initialising MSE and accuracy to store the value\n",
        "Mean_sq_error_kmeans=[]\n",
        "accuracy_kmeans=[]\n",
        "for i in sigma: \n",
        "    w= weight_calc(input_data,kmeans_centers,i,output_data)\n",
        "    y_value_kmeans= output_calc(test_input_data,kmeans_centers,i,w)\n",
        "    y_pred_kmeans= np.sign(y_value_kmeans)\n",
        "    error= mean_square_err_calc(test_output_data,y_pred_kmeans)\n",
        "    Mean_sq_error_kmeans.append(error)\n",
        "    accuracy = accuracy_calc(test_output_data,y_pred_kmeans)\n",
        "    accuracy_kmeans.append(accuracy)\n",
        "    print(\"Sigma : {} | MSE : {} | Accuracy of the network with 150 centers selected by Kmeans : {}% \".format(i,error,accuracy*100))"
      ]
    },
    {
      "cell_type": "code",
      "execution_count": 22,
      "id": "1f80ef78",
      "metadata": {
        "colab": {
          "base_uri": "https://localhost:8080/",
          "height": 295
        },
        "id": "1f80ef78",
        "outputId": "391e4743-c7af-4b5e-f7cd-b2b009538456"
      },
      "outputs": [
        {
          "output_type": "display_data",
          "data": {
            "text/plain": [
              "<Figure size 432x288 with 1 Axes>"
            ],
            "image/png": "[encoded data removed]"
          },
          "metadata": {
            "needs_background": "light"
          }
        }
      ],
      "source": [
        "# Plotting the effect of sigma with MSE\n",
        "plt.plot(sigma,Mean_sq_error_kmeans)\n",
        "plt.title(\"Sigma Vs MSE Kmeans\")\n",
        "plt.xlabel(\"Sigma\")\n",
        "plt.ylabel(\"MSE Kmeans\")\n",
        "plt.show()"
      ]
    },
    {
      "cell_type": "code",
      "execution_count": 23,
      "id": "7a581147",
      "metadata": {
        "colab": {
          "base_uri": "https://localhost:8080/",
          "height": 295
        },
        "id": "7a581147",
        "outputId": "be7f1e2e-2a7d-42e1-bd7d-b46dab74443e"
      },
      "outputs": [
        {
          "output_type": "display_data",
          "data": {
            "text/plain": [
              "<Figure size 432x288 with 1 Axes>"
            ],
            "image/png": "[encoded data removed]"
          },
          "metadata": {
            "needs_background": "light"
          }
        }
      ],
      "source": [
        "# Plotting the effect of sigma with Accuracy of the network with 150 centers selected using Kmeans algorithm\n",
        "plt.plot(sigma,accuracy_kmeans)\n",
        "plt.title(\"Sigma Vs Accuracy Kmeans\")\n",
        "plt.xlabel(\"Sigma\")\n",
        "plt.ylabel(\"Accuracy Kmeans\")\n",
        "plt.show()"
      ]
    },
    {
      "cell_type": "markdown",
      "id": "dd36967d",
      "metadata": {
        "id": "dd36967d"
      },
      "source": [
        "#### Comparing the Design"
      ]
    },
    {
      "cell_type": "markdown",
      "id": "c60af482",
      "metadata": {
        "id": "c60af482"
      },
      "source": [
        "Plotting the graph of sigma vs MSE of all the 3 design to get much deeper perspective"
      ]
    },
    {
      "cell_type": "code",
      "execution_count": 24,
      "id": "65e7bcef",
      "metadata": {
        "colab": {
          "base_uri": "https://localhost:8080/",
          "height": 279
        },
        "id": "65e7bcef",
        "outputId": "69a35e46-f6b6-447b-dedb-749afb7f56b8"
      },
      "outputs": [
        {
          "output_type": "display_data",
          "data": {
            "text/plain": [
              "<Figure size 432x288 with 1 Axes>"
            ],
            "image/png": "[encoded data removed]"
          },
          "metadata": {
            "needs_background": "light"
          }
        }
      ],
      "source": [
        "plt.subplot(1,1,1)\n",
        "plt.plot(sigma , Mean_sq_error, color='red', linewidth=1)\n",
        "plt.plot(sigma , Mean_sq_error_150, color='blue', linewidth=1)\n",
        "plt.plot(sigma , Mean_sq_error_kmeans, color='green', linewidth=1)\n",
        "plt.xlabel(\"Spread (σ)\")\n",
        "plt.ylabel(\"Mean Squared Error\")\n",
        "plt.show()\n"
      ]
    },
    {
      "cell_type": "markdown",
      "id": "fb26bf65",
      "metadata": {
        "id": "fb26bf65"
      },
      "source": [
        "Plotting the graph of sigma vs Accuracy of all the 3 design to get much deeper perspective"
      ]
    },
    {
      "cell_type": "code",
      "execution_count": 25,
      "id": "25ccc085",
      "metadata": {
        "colab": {
          "base_uri": "https://localhost:8080/",
          "height": 279
        },
        "id": "25ccc085",
        "outputId": "6b304b9d-9581-4bcf-cd26-d6aa1cd4970e"
      },
      "outputs": [
        {
          "output_type": "display_data",
          "data": {
            "text/plain": [
              "<Figure size 432x288 with 1 Axes>"
            ],
            "image/png": "[encoded data removed]"
          },
          "metadata": {
            "needs_background": "light"
          }
        }
      ],
      "source": [
        "plt.subplot(1,1,1)\n",
        "plt.plot(sigma , accuracy_list, color='red', linewidth=1)\n",
        "plt.plot(sigma , accuracy_150, color='blue', linewidth=1)\n",
        "plt.plot(sigma , accuracy_kmeans, color='green', linewidth=1)\n",
        "plt.xlabel(\"Spread (σ)\")\n",
        "plt.ylabel(\"Accuracy\")\n",
        "plt.show()\n"
      ]
    },
    {
      "cell_type": "markdown",
      "id": "c87a7093",
      "metadata": {
        "id": "c87a7093"
      },
      "source": [
        "## From the above implementaions and graphs, we observe the below,\n",
        "\n",
        "For all the 3 designs, the maximum accuracy obtained is at sigma=11, which indicates that the spread parameter is independent on the number of centres to be choosen. In my observation I got Maximum accuracy of 100% for the case where sigma = 3 on all the 3 designs. \n",
        "\n",
        "In general as the number of centres reduces the accuracy reduces for a constant sigma.So lesser the number of hidden neurons lesser the accuracy and Kmeans clustering design works better than the random center selection design with same number of centers\n",
        "\n"
      ]
    },
    {
      "cell_type": "markdown",
      "id": "d357c255",
      "metadata": {
        "id": "d357c255"
      },
      "source": [
        "References:\n",
        "\n",
        "1. https://scikit-learn.org/stable/modules/generated/sklearn.cluster.KMeans.html\n",
        "2. ECE 657 - Spring 2022 - Lectures - Set 3\n",
        "3. Mod-01 Lec-27 RBF Neural Networks - nptelhrd"
      ]
    }
  ],
  "metadata": {
    "kernelspec": {
      "display_name": "Python 3 (ipykernel)",
      "language": "python",
      "name": "python3"
    },
    "language_info": {
      "codemirror_mode": {
        "name": "ipython",
        "version": 3
      },
      "file_extension": ".py",
      "mimetype": "text/x-python",
      "name": "python",
      "nbconvert_exporter": "python",
      "pygments_lexer": "ipython3",
      "version": "3.9.7"
    },
    "colab": {
      "name": "Question 3 RBF.ipynb",
      "provenance": [],
      "collapsed_sections": []
    }
  },
  "nbformat": 4,
  "nbformat_minor": 5
}